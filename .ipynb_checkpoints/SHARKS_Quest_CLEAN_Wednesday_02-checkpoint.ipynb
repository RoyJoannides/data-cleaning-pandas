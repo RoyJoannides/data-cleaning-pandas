{
 "cells": [
  {
   "cell_type": "markdown",
   "id": "839c163d",
   "metadata": {},
   "source": [
    "# Importing pandas, loading file"
   ]
  },
  {
   "cell_type": "code",
   "execution_count": 2,
   "id": "d01ba96c",
   "metadata": {
    "id": "d01ba96c",
    "scrolled": true
   },
   "outputs": [
    {
     "ename": "ImportError",
     "evalue": "Missing optional dependency 'xlrd'. Install xlrd >= 2.0.1 for xls Excel support Use pip or conda to install xlrd.",
     "output_type": "error",
     "traceback": [
      "\u001b[1;31m---------------------------------------------------------------------------\u001b[0m",
      "\u001b[1;31mModuleNotFoundError\u001b[0m                       Traceback (most recent call last)",
      "File \u001b[1;32m~\\anaconda3\\Lib\\site-packages\\pandas\\compat\\_optional.py:142\u001b[0m, in \u001b[0;36mimport_optional_dependency\u001b[1;34m(name, extra, errors, min_version)\u001b[0m\n\u001b[0;32m    141\u001b[0m \u001b[38;5;28;01mtry\u001b[39;00m:\n\u001b[1;32m--> 142\u001b[0m     module \u001b[38;5;241m=\u001b[39m importlib\u001b[38;5;241m.\u001b[39mimport_module(name)\n\u001b[0;32m    143\u001b[0m \u001b[38;5;28;01mexcept\u001b[39;00m \u001b[38;5;167;01mImportError\u001b[39;00m:\n",
      "File \u001b[1;32m~\\anaconda3\\Lib\\importlib\\__init__.py:126\u001b[0m, in \u001b[0;36mimport_module\u001b[1;34m(name, package)\u001b[0m\n\u001b[0;32m    125\u001b[0m         level \u001b[38;5;241m+\u001b[39m\u001b[38;5;241m=\u001b[39m \u001b[38;5;241m1\u001b[39m\n\u001b[1;32m--> 126\u001b[0m \u001b[38;5;28;01mreturn\u001b[39;00m _bootstrap\u001b[38;5;241m.\u001b[39m_gcd_import(name[level:], package, level)\n",
      "File \u001b[1;32m<frozen importlib._bootstrap>:1204\u001b[0m, in \u001b[0;36m_gcd_import\u001b[1;34m(name, package, level)\u001b[0m\n",
      "File \u001b[1;32m<frozen importlib._bootstrap>:1176\u001b[0m, in \u001b[0;36m_find_and_load\u001b[1;34m(name, import_)\u001b[0m\n",
      "File \u001b[1;32m<frozen importlib._bootstrap>:1140\u001b[0m, in \u001b[0;36m_find_and_load_unlocked\u001b[1;34m(name, import_)\u001b[0m\n",
      "\u001b[1;31mModuleNotFoundError\u001b[0m: No module named 'xlrd'",
      "\nDuring handling of the above exception, another exception occurred:\n",
      "\u001b[1;31mImportError\u001b[0m                               Traceback (most recent call last)",
      "Cell \u001b[1;32mIn[2], line 4\u001b[0m\n\u001b[0;32m      2\u001b[0m url \u001b[38;5;241m=\u001b[39m \u001b[38;5;124m'\u001b[39m\u001b[38;5;124mhttps://www.sharkattackfile.net/spreadsheets/GSAF5.xls\u001b[39m\u001b[38;5;124m'\u001b[39m\n\u001b[0;32m      3\u001b[0m pd\u001b[38;5;241m.\u001b[39mset_option(\u001b[38;5;124m'\u001b[39m\u001b[38;5;124mdisplay.max_columns\u001b[39m\u001b[38;5;124m'\u001b[39m, \u001b[38;5;28;01mNone\u001b[39;00m)\n\u001b[1;32m----> 4\u001b[0m df \u001b[38;5;241m=\u001b[39m pd\u001b[38;5;241m.\u001b[39mread_excel(url)\n",
      "File \u001b[1;32m~\\anaconda3\\Lib\\site-packages\\pandas\\io\\excel\\_base.py:478\u001b[0m, in \u001b[0;36mread_excel\u001b[1;34m(io, sheet_name, header, names, index_col, usecols, dtype, engine, converters, true_values, false_values, skiprows, nrows, na_values, keep_default_na, na_filter, verbose, parse_dates, date_parser, date_format, thousands, decimal, comment, skipfooter, storage_options, dtype_backend)\u001b[0m\n\u001b[0;32m    476\u001b[0m \u001b[38;5;28;01mif\u001b[39;00m \u001b[38;5;129;01mnot\u001b[39;00m \u001b[38;5;28misinstance\u001b[39m(io, ExcelFile):\n\u001b[0;32m    477\u001b[0m     should_close \u001b[38;5;241m=\u001b[39m \u001b[38;5;28;01mTrue\u001b[39;00m\n\u001b[1;32m--> 478\u001b[0m     io \u001b[38;5;241m=\u001b[39m ExcelFile(io, storage_options\u001b[38;5;241m=\u001b[39mstorage_options, engine\u001b[38;5;241m=\u001b[39mengine)\n\u001b[0;32m    479\u001b[0m \u001b[38;5;28;01melif\u001b[39;00m engine \u001b[38;5;129;01mand\u001b[39;00m engine \u001b[38;5;241m!=\u001b[39m io\u001b[38;5;241m.\u001b[39mengine:\n\u001b[0;32m    480\u001b[0m     \u001b[38;5;28;01mraise\u001b[39;00m \u001b[38;5;167;01mValueError\u001b[39;00m(\n\u001b[0;32m    481\u001b[0m         \u001b[38;5;124m\"\u001b[39m\u001b[38;5;124mEngine should not be specified when passing \u001b[39m\u001b[38;5;124m\"\u001b[39m\n\u001b[0;32m    482\u001b[0m         \u001b[38;5;124m\"\u001b[39m\u001b[38;5;124man ExcelFile - ExcelFile already has the engine set\u001b[39m\u001b[38;5;124m\"\u001b[39m\n\u001b[0;32m    483\u001b[0m     )\n",
      "File \u001b[1;32m~\\anaconda3\\Lib\\site-packages\\pandas\\io\\excel\\_base.py:1513\u001b[0m, in \u001b[0;36mExcelFile.__init__\u001b[1;34m(self, path_or_buffer, engine, storage_options)\u001b[0m\n\u001b[0;32m   1510\u001b[0m \u001b[38;5;28mself\u001b[39m\u001b[38;5;241m.\u001b[39mengine \u001b[38;5;241m=\u001b[39m engine\n\u001b[0;32m   1511\u001b[0m \u001b[38;5;28mself\u001b[39m\u001b[38;5;241m.\u001b[39mstorage_options \u001b[38;5;241m=\u001b[39m storage_options\n\u001b[1;32m-> 1513\u001b[0m \u001b[38;5;28mself\u001b[39m\u001b[38;5;241m.\u001b[39m_reader \u001b[38;5;241m=\u001b[39m \u001b[38;5;28mself\u001b[39m\u001b[38;5;241m.\u001b[39m_engines[engine](\u001b[38;5;28mself\u001b[39m\u001b[38;5;241m.\u001b[39m_io, storage_options\u001b[38;5;241m=\u001b[39mstorage_options)\n",
      "File \u001b[1;32m~\\anaconda3\\Lib\\site-packages\\pandas\\io\\excel\\_xlrd.py:34\u001b[0m, in \u001b[0;36mXlrdReader.__init__\u001b[1;34m(self, filepath_or_buffer, storage_options)\u001b[0m\n\u001b[0;32m     24\u001b[0m \u001b[38;5;250m\u001b[39m\u001b[38;5;124;03m\"\"\"\u001b[39;00m\n\u001b[0;32m     25\u001b[0m \u001b[38;5;124;03mReader using xlrd engine.\u001b[39;00m\n\u001b[0;32m     26\u001b[0m \n\u001b[1;32m   (...)\u001b[0m\n\u001b[0;32m     31\u001b[0m \u001b[38;5;124;03m{storage_options}\u001b[39;00m\n\u001b[0;32m     32\u001b[0m \u001b[38;5;124;03m\"\"\"\u001b[39;00m\n\u001b[0;32m     33\u001b[0m err_msg \u001b[38;5;241m=\u001b[39m \u001b[38;5;124m\"\u001b[39m\u001b[38;5;124mInstall xlrd >= 2.0.1 for xls Excel support\u001b[39m\u001b[38;5;124m\"\u001b[39m\n\u001b[1;32m---> 34\u001b[0m import_optional_dependency(\u001b[38;5;124m\"\u001b[39m\u001b[38;5;124mxlrd\u001b[39m\u001b[38;5;124m\"\u001b[39m, extra\u001b[38;5;241m=\u001b[39merr_msg)\n\u001b[0;32m     35\u001b[0m \u001b[38;5;28msuper\u001b[39m()\u001b[38;5;241m.\u001b[39m\u001b[38;5;21m__init__\u001b[39m(filepath_or_buffer, storage_options\u001b[38;5;241m=\u001b[39mstorage_options)\n",
      "File \u001b[1;32m~\\anaconda3\\Lib\\site-packages\\pandas\\compat\\_optional.py:145\u001b[0m, in \u001b[0;36mimport_optional_dependency\u001b[1;34m(name, extra, errors, min_version)\u001b[0m\n\u001b[0;32m    143\u001b[0m \u001b[38;5;28;01mexcept\u001b[39;00m \u001b[38;5;167;01mImportError\u001b[39;00m:\n\u001b[0;32m    144\u001b[0m     \u001b[38;5;28;01mif\u001b[39;00m errors \u001b[38;5;241m==\u001b[39m \u001b[38;5;124m\"\u001b[39m\u001b[38;5;124mraise\u001b[39m\u001b[38;5;124m\"\u001b[39m:\n\u001b[1;32m--> 145\u001b[0m         \u001b[38;5;28;01mraise\u001b[39;00m \u001b[38;5;167;01mImportError\u001b[39;00m(msg)\n\u001b[0;32m    146\u001b[0m     \u001b[38;5;28;01mreturn\u001b[39;00m \u001b[38;5;28;01mNone\u001b[39;00m\n\u001b[0;32m    148\u001b[0m \u001b[38;5;66;03m# Handle submodules: if we have submodule, grab parent module from sys.modules\u001b[39;00m\n",
      "\u001b[1;31mImportError\u001b[0m: Missing optional dependency 'xlrd'. Install xlrd >= 2.0.1 for xls Excel support Use pip or conda to install xlrd."
     ]
    }
   ],
   "source": [
    "import pandas as pd\n",
    "url = 'https://www.sharkattackfile.net/spreadsheets/GSAF5.xls'\n",
    "pd.set_option('display.max_columns', None)\n",
    "df = pd.read_excel(url)"
   ]
  },
  {
   "cell_type": "code",
   "execution_count": null,
   "id": "0fc57e9e",
   "metadata": {},
   "outputs": [],
   "source": [
    "df"
   ]
  },
  {
   "cell_type": "markdown",
   "id": "925e1dce",
   "metadata": {},
   "source": [
    "# Data Cleaning"
   ]
  },
  {
   "cell_type": "code",
   "execution_count": 2,
   "id": "6551f910",
   "metadata": {},
   "outputs": [],
   "source": [
    "#1. Lose PDF, source, location (and more) columns✅\n",
    "#2. Handle all the null\n",
    "#Time and age replace by avg✅\n",
    "#Delete rows with a majority of nulls\n",
    "#4.Check for duplicates\n",
    "#3.Format Data\n"
   ]
  },
  {
   "cell_type": "code",
   "execution_count": 3,
   "id": "0a4fceb2",
   "metadata": {},
   "outputs": [],
   "source": [
    "#1. Lose PDF, source, location (and more) columns\n",
    "\n",
    "columns_to_drop = ['Location', 'pdf', 'Source','href formula','Unnamed: 11','href', 'Case Number', 'Case Number.1',\n",
    "       'original order', 'Unnamed: 21', 'Unnamed: 22']\n",
    "df.drop(columns_to_drop, axis=1, inplace=True)"
   ]
  },
  {
   "cell_type": "code",
   "execution_count": 4,
   "id": "0e867a3a",
   "metadata": {},
   "outputs": [],
   "source": [
    "#2. Handle all the null\n",
    "df.isnull().sum()\n",
    "df.isnull().any()\n",
    "df.isnull().sum(axis=1)\n",
    "df.dropna(how='all', inplace=True) #drop all rows with all of the 13 values null (-24 rows)\n",
    "\n",
    "# Convert 'Age' column to numeric type to ensure all values are numeric\n",
    "df['Age'] = pd.to_numeric(df['Age'], errors='coerce')\n",
    "# Replace null values in the 'Age' column with the average age\n",
    "df['Age'].fillna(df['Age'].mean(), inplace=True)\n",
    "\n",
    "df['Time'] = pd.to_numeric(df['Time'], errors='coerce')\n",
    "df['Time'].fillna(df['Time'].mean(), inplace=True)\n",
    "df.dropna(subset=['Country'], inplace=True)\n",
    "#df.dropna(thresh=10)#with 13 we have 3054 rows, 12 >> 5773, 11 >> 6555"
   ]
  },
  {
   "cell_type": "code",
   "execution_count": 5,
   "id": "e578bfc1",
   "metadata": {},
   "outputs": [
    {
     "data": {
      "text/plain": [
       "Date           0\n",
       "Year           2\n",
       "Type          18\n",
       "Country        0\n",
       "State        447\n",
       "Activity     578\n",
       "Name         215\n",
       "Sex          575\n",
       "Age            0\n",
       "Injury        33\n",
       "Time           0\n",
       "Species     3094\n",
       "dtype: int64"
      ]
     },
     "execution_count": 5,
     "metadata": {},
     "output_type": "execute_result"
    }
   ],
   "source": [
    "df.isnull().sum()"
   ]
  },
  {
   "cell_type": "code",
   "execution_count": 6,
   "id": "8d49b3da",
   "metadata": {},
   "outputs": [
    {
     "data": {
      "text/plain": [
       "2"
      ]
     },
     "execution_count": 6,
     "metadata": {},
     "output_type": "execute_result"
    }
   ],
   "source": [
    "df.duplicated().sum() # no duplicated values"
   ]
  },
  {
   "cell_type": "code",
   "execution_count": 7,
   "id": "f621db4c",
   "metadata": {},
   "outputs": [],
   "source": [
    "df.drop_duplicates(inplace=True)"
   ]
  },
  {
   "cell_type": "markdown",
   "id": "e7f8de0f",
   "metadata": {},
   "source": [
    "# \"Year\" - filling missing values (NaN and \"0\") with data from \"Date\""
   ]
  },
  {
   "cell_type": "code",
   "execution_count": 8,
   "id": "3d0ebba7",
   "metadata": {},
   "outputs": [
    {
     "name": "stdout",
     "output_type": "stream",
     "text": [
      "Starting this process there were 125 values of 'Year' = 0.\n",
      "And 'Year' had 2 NaN values.\n"
     ]
    }
   ],
   "source": [
    "print(f\"Starting this process there were {sum(df['Year'] == 0.0)} values of 'Year' = 0.\\n\"\n",
    "         f\"And 'Year' had {df['Year'].isnull().sum()} NaN values.\")"
   ]
  },
  {
   "cell_type": "code",
   "execution_count": 9,
   "id": "bb860c39",
   "metadata": {
    "collapsed": true
   },
   "outputs": [
    {
     "data": {
      "text/plain": [
       "count    6886.000000\n",
       "mean     1935.987220\n",
       "std       268.976015\n",
       "min         0.000000\n",
       "25%      1948.000000\n",
       "50%      1985.000000\n",
       "75%      2009.000000\n",
       "max      2024.000000\n",
       "Name: Year, dtype: float64"
      ]
     },
     "execution_count": 9,
     "metadata": {},
     "output_type": "execute_result"
    }
   ],
   "source": [
    "df['Year'].describe()"
   ]
  },
  {
   "cell_type": "code",
   "execution_count": 10,
   "id": "cfef4ed5",
   "metadata": {},
   "outputs": [],
   "source": [
    "pd.set_option('display.max_rows', 200)"
   ]
  },
  {
   "cell_type": "code",
   "execution_count": 11,
   "id": "7835d45b",
   "metadata": {
    "collapsed": true
   },
   "outputs": [
    {
     "data": {
      "text/plain": [
       "6812                                        Ca. 336.B.C..\n",
       "6813                                         Ca. 493 B.C.\n",
       "6814                                         Ca. 725 B.C.\n",
       "6815                                        Ca. 1010  BC \n",
       "6816                                           Ca 4000 BC\n",
       "6817                                        Prior to 1988\n",
       "6818                                           After 2013\n",
       "6819                                          Before 1824\n",
       "6820                                          Before 1939\n",
       "6821                                         1990 or 1991\n",
       "6822                                          Before 2016\n",
       "6823                                      Before Oct-2009\n",
       "6824                                          Before 1934\n",
       "6825                                          Before 1934\n",
       "6826                                                2009?\n",
       "6827                                          Before 1930\n",
       "6828                                            1880-1899\n",
       "6829                                          Before 1909\n",
       "6830                                          Before 2012\n",
       "6831                                          Before 1916\n",
       "6832                                          Before 1908\n",
       "6833                                          Before 1900\n",
       "6834                                          Before 1876\n",
       "6835                                          Before 2012\n",
       "6836                                          Before 2011\n",
       "6838                                          Before 2009\n",
       "6839                                         Beforer 1994\n",
       "6840                                          Before 1963\n",
       "6841                                            1896-1913\n",
       "6842                                          Before 1936\n",
       "6843                                   Before 08-Jun-1912\n",
       "6845                                          Before 1911\n",
       "6846                                          Before 1901\n",
       "6847                                  No date, late 1960s\n",
       "6848                                          Before 2006\n",
       "6849                                          Before 2003\n",
       "6850                                          Before 2004\n",
       "6851                                          Before 1962\n",
       "6852                                                1950s\n",
       "6853                                 No date, Before 1963\n",
       "6854                                                2003?\n",
       "6855                                              No date\n",
       "6856                                              No date\n",
       "6857                                      Before Feb-1998\n",
       "6858                             No date, Before May-1996\n",
       "6859                             No date, Before Mar-1995\n",
       "6860                                          Before 1996\n",
       "6861                             No date, Before Aug-1989\n",
       "6862                             No date, Before Aug-1987\n",
       "6863                                 No date, Before 1987\n",
       "6864                                No date, Before  1975\n",
       "6865                                 No date, Before 1975\n",
       "6866                                 No date, Before 1969\n",
       "6867                           No date, Before 3-Jan-1967\n",
       "6868                                 No date, Before 1963\n",
       "6869                           No date, Before 8-May-1965\n",
       "6870                                 No date, Before 1963\n",
       "6871                                 No date, Before 1902\n",
       "6872                                 No date, Before 1902\n",
       "6873                                 No date, Before 1963\n",
       "6874           No date, After August 1926 and before 1936\n",
       "6875                                 No date, Before 1963\n",
       "6876                                          Before 1962\n",
       "6877                                          Before 1962\n",
       "6878                                          Before 1961\n",
       "6879                                                1960s\n",
       "6880                                                1960s\n",
       "6881                                                1960s\n",
       "6882                                          Before 1960\n",
       "6883                                  Before  19-Jun-1959\n",
       "6884                                  Before  24 Apr-1959\n",
       "6885                                         Before  1958\n",
       "6886                                         Before  1958\n",
       "6887                                          Before 1958\n",
       "6888                                          Before 1958\n",
       "6889                                          Before 1958\n",
       "6890                                          Before 1958\n",
       "6891                                          Before 1957\n",
       "6892                                          Before 1957\n",
       "6893                                          Before 1956\n",
       "6894                                          Before 1956\n",
       "6895                                      Before Mar-1956\n",
       "6896                                          Before 1952\n",
       "6898                           \"During the war\" 1943-1945\n",
       "6899                                     \"Before the war\"\n",
       "6900               Said to be 1941-1945, more likely 1945\n",
       "6901                                            1941-1945\n",
       "6902                                            1941-1945\n",
       "6903                                            1941-1942\n",
       "6904                                          1940 - 1950\n",
       "6905                                          1940 - 1950\n",
       "6906                                          1940 - 1950\n",
       "6907                                            1940-1946\n",
       "6908                                          Before 1905\n",
       "6909                                         World War II\n",
       "6910                                         World War II\n",
       "6911                                          Before 1905\n",
       "6912                              A few years before 1938\n",
       "6913                                              No date\n",
       "6914                                          Early 1930s\n",
       "6915                                          Before 1927\n",
       "6916                                  Between 1918 & 1939\n",
       "6917                                              No date\n",
       "6918                                              No date\n",
       "6919                                              No date\n",
       "6920                                           1920 -1923\n",
       "6921                                          Before 1921\n",
       "6922                                          Before 1911\n",
       "6923                                          Before 1921\n",
       "6924                                          Before 1921\n",
       "6925                                          Before 1917\n",
       "6926                                   Before 17-Jul-1916\n",
       "6927    No date (3 days after preceding incident) & pr...\n",
       "6928                                   Before 19-Jul-1913\n",
       "6929                                          Before 1911\n",
       "6930                                           Circa 1862\n",
       "6931                                          Before 1906\n",
       "6932                                          Before 1906\n",
       "6933                                          Before 1906\n",
       "6934                                          Before 1906\n",
       "6935                                          Before 1903\n",
       "6936                                          Before 1903\n",
       "6937                                            1900-1905\n",
       "6938                                            1883-1889\n",
       "6939                                            1845-1853\n",
       "Name: Date, dtype: object"
      ]
     },
     "execution_count": 11,
     "metadata": {},
     "output_type": "execute_result"
    }
   ],
   "source": [
    "df[df[\"Year\"]==0.0][\"Date\"] # there are entries with year 0, but info at \"Date\""
   ]
  },
  {
   "cell_type": "code",
   "execution_count": 12,
   "id": "142e09b6",
   "metadata": {},
   "outputs": [],
   "source": [
    "df[\"Date\"] = df[\"Date\"].apply(str) # transforming the \"Date\" to string to be able to manipulate it"
   ]
  },
  {
   "cell_type": "code",
   "execution_count": 13,
   "id": "5b615446",
   "metadata": {},
   "outputs": [],
   "source": [
    "substring  = [\"BC\", \"B.C.\"] # deleting the rows that are B.C.\n",
    "\n",
    "filter = df[\"Date\"].str.contains('|'.join(substring))\n",
    "df = df[~filter]"
   ]
  },
  {
   "cell_type": "code",
   "execution_count": 14,
   "id": "f9a4be8d",
   "metadata": {},
   "outputs": [],
   "source": [
    "df = df[~((df[\"Date\"] == \"No date\") & (df[\"Year\"] == 0.0))] # deleting rows that have year=0 and date=no date"
   ]
  },
  {
   "cell_type": "code",
   "execution_count": 15,
   "id": "21fd3cdf",
   "metadata": {},
   "outputs": [],
   "source": [
    "df.loc[df['Year'] == 0.0, 'Year'] = df.loc[df['Year'] == 0.0, 'Date'].str.extract(r'(\\d{4})').values\n",
    "# adding to year (when year = 0) the 4 consecutive digids from Date"
   ]
  },
  {
   "cell_type": "code",
   "execution_count": 16,
   "id": "3b4dbb10",
   "metadata": {},
   "outputs": [],
   "source": [
    "df.loc[df['Year'].isna(), 'Year'] = df.loc[df['Year'].isna(), 'Date'].str.extract(r'(\\d{4})').values\n",
    "# adding to year (when year = NaN) the 4 consecutive digids from Date"
   ]
  },
  {
   "cell_type": "code",
   "execution_count": 17,
   "id": "cb57193a",
   "metadata": {
    "scrolled": true
   },
   "outputs": [
    {
     "name": "stdout",
     "output_type": "stream",
     "text": [
      "Finishing this process there are 0 values of 'Year' = 0.\n",
      "And 'Year' has 3 NaN values.\n",
      "The missing values were filled in from info from the 'Date' column.\n"
     ]
    }
   ],
   "source": [
    "print(f\"Finishing this process there are {sum(df['Year'] == 0.0)} values of 'Year' = 0.\\n\"\n",
    "        f\"And 'Year' has {df['Year'].isnull().sum()} NaN values.\\n\"\n",
    "        \"The missing values were filled in from info from the 'Date' column.\")"
   ]
  },
  {
   "cell_type": "markdown",
   "id": "334a6cc4",
   "metadata": {},
   "source": [
    "# \"Year\" - keeping only data from the last 77 years (75quantile) ?"
   ]
  },
  {
   "cell_type": "code",
   "execution_count": 18,
   "id": "faa1a3d9",
   "metadata": {},
   "outputs": [
    {
     "name": "stdout",
     "output_type": "stream",
     "text": [
      "Starting this process the dataframe has 6877 rows.\n"
     ]
    }
   ],
   "source": [
    "print(f\"Starting this process the dataframe has {df.shape[0]} rows.\")"
   ]
  },
  {
   "cell_type": "code",
   "execution_count": 19,
   "id": "847a6c51",
   "metadata": {},
   "outputs": [],
   "source": [
    "df.dropna(subset=\"Year\",inplace=True) # deleting 3 rows with NaN yesr value \n",
    "# looking at the data they also look to be around the world wars"
   ]
  },
  {
   "cell_type": "code",
   "execution_count": 20,
   "id": "7229d2c6",
   "metadata": {},
   "outputs": [],
   "source": [
    "df['Year'] = df['Year'].astype(int)"
   ]
  },
  {
   "cell_type": "code",
   "execution_count": 21,
   "id": "809196c9",
   "metadata": {},
   "outputs": [],
   "source": [
    "df = df[df['Year'] >= 1947]"
   ]
  },
  {
   "cell_type": "code",
   "execution_count": 22,
   "id": "5954f23f",
   "metadata": {},
   "outputs": [
    {
     "name": "stdout",
     "output_type": "stream",
     "text": [
      "After this process the dataframe has 5256 rows.\n"
     ]
    }
   ],
   "source": [
    "print(f\"After this process the dataframe has {df.shape[0]} rows.\")"
   ]
  },
  {
   "cell_type": "markdown",
   "id": "a3c2909d",
   "metadata": {
    "id": "a3c2909d"
   },
   "source": [
    "# Date"
   ]
  },
  {
   "cell_type": "code",
   "execution_count": 23,
   "id": "753a070a",
   "metadata": {},
   "outputs": [],
   "source": [
    "df['Month'] = df['Date'] # creating a new column for \"Month\""
   ]
  },
  {
   "cell_type": "code",
   "execution_count": 24,
   "id": "ba5a6cc3",
   "metadata": {},
   "outputs": [],
   "source": [
    "df['Month'] = df['Month'].replace({\"Fall\":\"October\",\"Summer\":\"July\",\"summer\":\"July\",\"Nox\":\"November\",\"Winter\":\"January\",\"2017.06.05\":\"June\",\"2008.01.30\":\"January\",\"02-Ap-2001\":\"April\"},regex=True)\n",
    "# for date inputs that have seasons, adding the middle month of the season"
   ]
  },
  {
   "cell_type": "code",
   "execution_count": 25,
   "id": "f5694380",
   "metadata": {
    "scrolled": true
   },
   "outputs": [
    {
     "data": {
      "text/plain": [
       "0           14 Feb-2024\n",
       "1           04-Feb-2024\n",
       "2           29 Jan-2024\n",
       "3           15 Jan-2024\n",
       "4           09-Jan-2024\n",
       "             ...       \n",
       "6892        Before 1957\n",
       "6893        Before 1956\n",
       "6894        Before 1956\n",
       "6895    Before Mar-1956\n",
       "6896        Before 1952\n",
       "Name: Month, Length: 5256, dtype: object"
      ]
     },
     "execution_count": 25,
     "metadata": {},
     "output_type": "execute_result"
    }
   ],
   "source": [
    "df['Month']"
   ]
  },
  {
   "cell_type": "code",
   "execution_count": 26,
   "id": "088203c2",
   "metadata": {},
   "outputs": [],
   "source": [
    "# removing words in \"Date\" that don't offer much info, anf will mess up with the r pattern later\n",
    "substring = [\"Early\",\"Reported\",\"Before\",\"Mid\",\"Between\",\"date\",\"and\",\"Late\"]\n",
    "\n",
    "for sub in substring:\n",
    "    df['Month'] = df['Month'].str.replace(sub, '')"
   ]
  },
  {
   "cell_type": "code",
   "execution_count": 27,
   "id": "309fdb54",
   "metadata": {},
   "outputs": [],
   "source": [
    "df['Month'] = df['Month'].str.extract(r'([A-Za-z]{3})')"
   ]
  },
  {
   "cell_type": "code",
   "execution_count": 28,
   "id": "b7f9351c",
   "metadata": {},
   "outputs": [
    {
     "data": {
      "text/plain": [
       "209"
      ]
     },
     "execution_count": 28,
     "metadata": {},
     "output_type": "execute_result"
    }
   ],
   "source": [
    "df['Month'].isna().sum() # these NaN values, are mostly dates that had only year ( df.loc[df['Month'].isna()] )"
   ]
  },
  {
   "cell_type": "code",
   "execution_count": 29,
   "id": "d75d6cf7",
   "metadata": {},
   "outputs": [],
   "source": [
    "df['Month'] = df['Month'].replace({\"sam\":None,\"Las\":None,\"Cir\":None,\"Pri\":None,\"Aft\":None,\"lat\":None},regex=True)\n",
    "# replacing the values are not months (checked) with NaN values"
   ]
  },
  {
   "cell_type": "code",
   "execution_count": 30,
   "id": "67a6ca13",
   "metadata": {},
   "outputs": [
    {
     "data": {
      "text/plain": [
       "Month\n",
       "Jul    618\n",
       "Aug    528\n",
       "Sep    487\n",
       "Jun    437\n",
       "Jan    417\n",
       "Oct    411\n",
       "Apr    403\n",
       "Dec    376\n",
       "May    359\n",
       "Mar    347\n",
       "Nov    335\n",
       "Feb    322\n",
       "Name: count, dtype: int64"
      ]
     },
     "execution_count": 30,
     "metadata": {},
     "output_type": "execute_result"
    }
   ],
   "source": [
    "df['Month'].value_counts() # July and August are the most active months"
   ]
  },
  {
   "cell_type": "code",
   "execution_count": 31,
   "id": "448470df",
   "metadata": {
    "collapsed": true
   },
   "outputs": [
    {
     "data": {
      "text/html": [
       "<div>\n",
       "<style scoped>\n",
       "    .dataframe tbody tr th:only-of-type {\n",
       "        vertical-align: middle;\n",
       "    }\n",
       "\n",
       "    .dataframe tbody tr th {\n",
       "        vertical-align: top;\n",
       "    }\n",
       "\n",
       "    .dataframe thead th {\n",
       "        text-align: right;\n",
       "    }\n",
       "</style>\n",
       "<table border=\"1\" class=\"dataframe\">\n",
       "  <thead>\n",
       "    <tr style=\"text-align: right;\">\n",
       "      <th></th>\n",
       "      <th>Date</th>\n",
       "      <th>Year</th>\n",
       "      <th>Type</th>\n",
       "      <th>Country</th>\n",
       "      <th>State</th>\n",
       "      <th>Activity</th>\n",
       "      <th>Name</th>\n",
       "      <th>Sex</th>\n",
       "      <th>Age</th>\n",
       "      <th>Injury</th>\n",
       "      <th>Time</th>\n",
       "      <th>Species</th>\n",
       "      <th>Month</th>\n",
       "    </tr>\n",
       "  </thead>\n",
       "  <tbody>\n",
       "    <tr>\n",
       "      <th>0</th>\n",
       "      <td>14 Feb-2024</td>\n",
       "      <td>2024</td>\n",
       "      <td>Unprovoked</td>\n",
       "      <td>INDIA</td>\n",
       "      <td>Maharashtra</td>\n",
       "      <td>Fishing</td>\n",
       "      <td>Vicky Suresh Govari</td>\n",
       "      <td>M</td>\n",
       "      <td>32.000000</td>\n",
       "      <td>Calf of lower left leg injured</td>\n",
       "      <td>1249.285714</td>\n",
       "      <td>Bull shark, 7'</td>\n",
       "      <td>Feb</td>\n",
       "    </tr>\n",
       "    <tr>\n",
       "      <th>1</th>\n",
       "      <td>04-Feb-2024</td>\n",
       "      <td>2024</td>\n",
       "      <td>Provoked</td>\n",
       "      <td>TRINIDAD</td>\n",
       "      <td>NaN</td>\n",
       "      <td>Spearfishing</td>\n",
       "      <td>male</td>\n",
       "      <td>M</td>\n",
       "      <td>28.046658</td>\n",
       "      <td>Shoulder bitten</td>\n",
       "      <td>1249.285714</td>\n",
       "      <td>Blacktip reef shark</td>\n",
       "      <td>Feb</td>\n",
       "    </tr>\n",
       "    <tr>\n",
       "      <th>2</th>\n",
       "      <td>29 Jan-2024</td>\n",
       "      <td>2024</td>\n",
       "      <td>Unprovoked</td>\n",
       "      <td>AUSTRALIA</td>\n",
       "      <td>New  South Wales</td>\n",
       "      <td>Swimming</td>\n",
       "      <td>Lauren O'Neill</td>\n",
       "      <td>F</td>\n",
       "      <td>29.000000</td>\n",
       "      <td>Right leg bitten</td>\n",
       "      <td>1249.285714</td>\n",
       "      <td>Bull shark</td>\n",
       "      <td>Jan</td>\n",
       "    </tr>\n",
       "    <tr>\n",
       "      <th>3</th>\n",
       "      <td>15 Jan-2024</td>\n",
       "      <td>2024</td>\n",
       "      <td>Unprovoked</td>\n",
       "      <td>BAHAMAS</td>\n",
       "      <td>Paradise Island</td>\n",
       "      <td>Swimming</td>\n",
       "      <td>male</td>\n",
       "      <td>M</td>\n",
       "      <td>10.000000</td>\n",
       "      <td>Right leg injured</td>\n",
       "      <td>1249.285714</td>\n",
       "      <td>NaN</td>\n",
       "      <td>Jan</td>\n",
       "    </tr>\n",
       "    <tr>\n",
       "      <th>4</th>\n",
       "      <td>09-Jan-2024</td>\n",
       "      <td>2024</td>\n",
       "      <td>Unprovoked</td>\n",
       "      <td>AUSTRALIA</td>\n",
       "      <td>South Australia</td>\n",
       "      <td>Surfing</td>\n",
       "      <td>Murray Adams</td>\n",
       "      <td>M</td>\n",
       "      <td>64.000000</td>\n",
       "      <td>Leg bitten</td>\n",
       "      <td>1249.285714</td>\n",
       "      <td>White shark</td>\n",
       "      <td>Jan</td>\n",
       "    </tr>\n",
       "    <tr>\n",
       "      <th>...</th>\n",
       "      <td>...</td>\n",
       "      <td>...</td>\n",
       "      <td>...</td>\n",
       "      <td>...</td>\n",
       "      <td>...</td>\n",
       "      <td>...</td>\n",
       "      <td>...</td>\n",
       "      <td>...</td>\n",
       "      <td>...</td>\n",
       "      <td>...</td>\n",
       "      <td>...</td>\n",
       "      <td>...</td>\n",
       "      <td>...</td>\n",
       "    </tr>\n",
       "    <tr>\n",
       "      <th>6892</th>\n",
       "      <td>Before 1957</td>\n",
       "      <td>1957</td>\n",
       "      <td>Provoked</td>\n",
       "      <td>CUBA</td>\n",
       "      <td>Havana Province</td>\n",
       "      <td>Shark fishing, knocked overboard</td>\n",
       "      <td>Sandrillio</td>\n",
       "      <td>M</td>\n",
       "      <td>50.000000</td>\n",
       "      <td>FATAL, hip bitten  PROVOKED INCIDENT</td>\n",
       "      <td>1249.285714</td>\n",
       "      <td>NaN</td>\n",
       "      <td>NaN</td>\n",
       "    </tr>\n",
       "    <tr>\n",
       "      <th>6893</th>\n",
       "      <td>Before 1956</td>\n",
       "      <td>1956</td>\n",
       "      <td>Unprovoked</td>\n",
       "      <td>MARSHALL ISLANDS</td>\n",
       "      <td>Bikini Atoll</td>\n",
       "      <td>Swimming</td>\n",
       "      <td>male</td>\n",
       "      <td>M</td>\n",
       "      <td>28.046658</td>\n",
       "      <td>Buttocks bitten</td>\n",
       "      <td>1249.285714</td>\n",
       "      <td>NaN</td>\n",
       "      <td>NaN</td>\n",
       "    </tr>\n",
       "    <tr>\n",
       "      <th>6894</th>\n",
       "      <td>Before 1956</td>\n",
       "      <td>1956</td>\n",
       "      <td>Unprovoked</td>\n",
       "      <td>KIRIBATI</td>\n",
       "      <td>Phoenix Islands</td>\n",
       "      <td>Diving</td>\n",
       "      <td>Dusty Rhodes</td>\n",
       "      <td>M</td>\n",
       "      <td>28.046658</td>\n",
       "      <td>No injury</td>\n",
       "      <td>1249.285714</td>\n",
       "      <td>NaN</td>\n",
       "      <td>NaN</td>\n",
       "    </tr>\n",
       "    <tr>\n",
       "      <th>6895</th>\n",
       "      <td>Before Mar-1956</td>\n",
       "      <td>1956</td>\n",
       "      <td>Unprovoked</td>\n",
       "      <td>NORTH PACIFIC OCEAN</td>\n",
       "      <td>NaN</td>\n",
       "      <td>Fishing, wading with string of fish</td>\n",
       "      <td>male</td>\n",
       "      <td>M</td>\n",
       "      <td>28.046658</td>\n",
       "      <td>Survived</td>\n",
       "      <td>1249.285714</td>\n",
       "      <td>NaN</td>\n",
       "      <td>Mar</td>\n",
       "    </tr>\n",
       "    <tr>\n",
       "      <th>6896</th>\n",
       "      <td>Before 1952</td>\n",
       "      <td>1952</td>\n",
       "      <td>Unprovoked</td>\n",
       "      <td>KIRIBATI</td>\n",
       "      <td>Gilbert Islands</td>\n",
       "      <td>NaN</td>\n",
       "      <td>Gilbertese fisherman</td>\n",
       "      <td>M</td>\n",
       "      <td>28.046658</td>\n",
       "      <td>FATAL</td>\n",
       "      <td>1249.285714</td>\n",
       "      <td>NaN</td>\n",
       "      <td>NaN</td>\n",
       "    </tr>\n",
       "  </tbody>\n",
       "</table>\n",
       "<p>5256 rows × 13 columns</p>\n",
       "</div>"
      ],
      "text/plain": [
       "                 Date  Year        Type              Country  \\\n",
       "0         14 Feb-2024  2024  Unprovoked                INDIA   \n",
       "1         04-Feb-2024  2024    Provoked             TRINIDAD   \n",
       "2         29 Jan-2024  2024  Unprovoked            AUSTRALIA   \n",
       "3         15 Jan-2024  2024  Unprovoked              BAHAMAS   \n",
       "4         09-Jan-2024  2024  Unprovoked            AUSTRALIA   \n",
       "...               ...   ...         ...                  ...   \n",
       "6892      Before 1957  1957    Provoked                 CUBA   \n",
       "6893      Before 1956  1956  Unprovoked     MARSHALL ISLANDS   \n",
       "6894      Before 1956  1956  Unprovoked             KIRIBATI   \n",
       "6895  Before Mar-1956  1956  Unprovoked  NORTH PACIFIC OCEAN   \n",
       "6896      Before 1952  1952  Unprovoked             KIRIBATI   \n",
       "\n",
       "                 State                             Activity  \\\n",
       "0          Maharashtra                              Fishing   \n",
       "1                  NaN                         Spearfishing   \n",
       "2     New  South Wales                             Swimming   \n",
       "3      Paradise Island                             Swimming   \n",
       "4      South Australia                              Surfing   \n",
       "...                ...                                  ...   \n",
       "6892   Havana Province     Shark fishing, knocked overboard   \n",
       "6893      Bikini Atoll                             Swimming   \n",
       "6894   Phoenix Islands                               Diving   \n",
       "6895               NaN  Fishing, wading with string of fish   \n",
       "6896   Gilbert Islands                                  NaN   \n",
       "\n",
       "                      Name Sex        Age  \\\n",
       "0      Vicky Suresh Govari   M  32.000000   \n",
       "1                     male   M  28.046658   \n",
       "2           Lauren O'Neill   F  29.000000   \n",
       "3                     male   M  10.000000   \n",
       "4             Murray Adams   M  64.000000   \n",
       "...                    ...  ..        ...   \n",
       "6892            Sandrillio   M  50.000000   \n",
       "6893                  male   M  28.046658   \n",
       "6894          Dusty Rhodes   M  28.046658   \n",
       "6895                  male   M  28.046658   \n",
       "6896  Gilbertese fisherman   M  28.046658   \n",
       "\n",
       "                                    Injury         Time             Species   \\\n",
       "0           Calf of lower left leg injured  1249.285714       Bull shark, 7'   \n",
       "1                          Shoulder bitten  1249.285714  Blacktip reef shark   \n",
       "2                         Right leg bitten  1249.285714           Bull shark   \n",
       "3                       Right leg injured   1249.285714                  NaN   \n",
       "4                               Leg bitten  1249.285714          White shark   \n",
       "...                                    ...          ...                  ...   \n",
       "6892  FATAL, hip bitten  PROVOKED INCIDENT  1249.285714                  NaN   \n",
       "6893                       Buttocks bitten  1249.285714                  NaN   \n",
       "6894                             No injury  1249.285714                  NaN   \n",
       "6895                              Survived  1249.285714                  NaN   \n",
       "6896                                 FATAL  1249.285714                  NaN   \n",
       "\n",
       "     Month  \n",
       "0      Feb  \n",
       "1      Feb  \n",
       "2      Jan  \n",
       "3      Jan  \n",
       "4      Jan  \n",
       "...    ...  \n",
       "6892   NaN  \n",
       "6893   NaN  \n",
       "6894   NaN  \n",
       "6895   Mar  \n",
       "6896   NaN  \n",
       "\n",
       "[5256 rows x 13 columns]"
      ]
     },
     "execution_count": 31,
     "metadata": {},
     "output_type": "execute_result"
    }
   ],
   "source": [
    "df"
   ]
  },
  {
   "cell_type": "code",
   "execution_count": 32,
   "id": "ad6e33db",
   "metadata": {},
   "outputs": [
    {
     "name": "stdout",
     "output_type": "stream",
     "text": [
      "There are 216 NaN values in 'Month'.\n"
     ]
    }
   ],
   "source": [
    "print(f\"There are {df['Month'].isnull().sum()} NaN values in 'Month'.\")"
   ]
  },
  {
   "cell_type": "markdown",
   "id": "19bdc3dd",
   "metadata": {},
   "source": [
    "# Activity"
   ]
  },
  {
   "cell_type": "code",
   "execution_count": 33,
   "id": "deb71177",
   "metadata": {},
   "outputs": [
    {
     "data": {
      "text/plain": [
       "370"
      ]
     },
     "execution_count": 33,
     "metadata": {},
     "output_type": "execute_result"
    }
   ],
   "source": [
    "df[\"Activity\"].isna().sum()"
   ]
  },
  {
   "cell_type": "code",
   "execution_count": 44,
   "id": "cefa7652",
   "metadata": {
    "scrolled": true
   },
   "outputs": [
    {
     "data": {
      "text/plain": [
       "Activity\n",
       "Surfing          1112\n",
       "Swimming          680\n",
       "Spearfishing      379\n",
       "Fishing           338\n",
       "Wading            155\n",
       "Snorkeling        129\n",
       "Diving            105\n",
       "Standing           91\n",
       "Scuba diving       84\n",
       "Body boarding      63\n",
       "Name: count, dtype: int64"
      ]
     },
     "execution_count": 44,
     "metadata": {},
     "output_type": "execute_result"
    }
   ],
   "source": [
    "df[\"Activity\"].value_counts().head(10)"
   ]
  },
  {
   "cell_type": "code",
   "execution_count": null,
   "id": "c2a8c0c4",
   "metadata": {},
   "outputs": [],
   "source": [
    "df_activity = df.copy()"
   ]
  },
  {
   "cell_type": "markdown",
   "id": "7da500a5",
   "metadata": {},
   "source": [
    "# Country / State"
   ]
  },
  {
   "cell_type": "code",
   "execution_count": 49,
   "id": "bd226acc",
   "metadata": {},
   "outputs": [
    {
     "data": {
      "text/html": [
       "<div>\n",
       "<style scoped>\n",
       "    .dataframe tbody tr th:only-of-type {\n",
       "        vertical-align: middle;\n",
       "    }\n",
       "\n",
       "    .dataframe tbody tr th {\n",
       "        vertical-align: top;\n",
       "    }\n",
       "\n",
       "    .dataframe thead th {\n",
       "        text-align: right;\n",
       "    }\n",
       "</style>\n",
       "<table border=\"1\" class=\"dataframe\">\n",
       "  <thead>\n",
       "    <tr style=\"text-align: right;\">\n",
       "      <th></th>\n",
       "      <th>Date</th>\n",
       "      <th>Year</th>\n",
       "      <th>Type</th>\n",
       "      <th>Country</th>\n",
       "      <th>State</th>\n",
       "      <th>Activity</th>\n",
       "      <th>Name</th>\n",
       "      <th>Sex</th>\n",
       "      <th>Age</th>\n",
       "      <th>Injury</th>\n",
       "      <th>Time</th>\n",
       "      <th>Species</th>\n",
       "      <th>Month</th>\n",
       "    </tr>\n",
       "  </thead>\n",
       "  <tbody>\n",
       "  </tbody>\n",
       "</table>\n",
       "</div>"
      ],
      "text/plain": [
       "Empty DataFrame\n",
       "Columns: [Date, Year, Type, Country, State, Activity, Name, Sex, Age, Injury, Time, Species , Month]\n",
       "Index: []"
      ]
     },
     "execution_count": 49,
     "metadata": {},
     "output_type": "execute_result"
    }
   ],
   "source": [
    "df.loc[(df[\"State\"].isna()) & (df[\"Country\"].isna())]"
   ]
  },
  {
   "cell_type": "code",
   "execution_count": 50,
   "id": "01cd631f",
   "metadata": {},
   "outputs": [],
   "source": [
    "df_location = df.copy()"
   ]
  }
 ],
 "metadata": {
  "colab": {
   "collapsed_sections": [
    "3224c871",
    "4da9b3c8",
    "06b7042b",
    "a3c2909d",
    "5a7fd247"
   ],
   "provenance": []
  },
  "kernelspec": {
   "display_name": "Python 3 (ipykernel)",
   "language": "python",
   "name": "python3"
  },
  "language_info": {
   "codemirror_mode": {
    "name": "ipython",
    "version": 3
   },
   "file_extension": ".py",
   "mimetype": "text/x-python",
   "name": "python",
   "nbconvert_exporter": "python",
   "pygments_lexer": "ipython3",
   "version": "3.11.5"
  }
 },
 "nbformat": 4,
 "nbformat_minor": 5
}
